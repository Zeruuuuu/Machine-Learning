{
  "nbformat": 4,
  "nbformat_minor": 0,
  "metadata": {
    "colab": {
      "provenance": [],
      "authorship_tag": "ABX9TyPuEWsM9hVG5hcxLzpkyuHP",
      "include_colab_link": true
    },
    "kernelspec": {
      "name": "python3",
      "display_name": "Python 3"
    },
    "language_info": {
      "name": "python"
    },
    "accelerator": "GPU",
    "gpuClass": "premium"
  },
  "cells": [
    {
      "cell_type": "markdown",
      "metadata": {
        "id": "view-in-github",
        "colab_type": "text"
      },
      "source": [
        "<a href=\"https://colab.research.google.com/github/Zeruuuuu/Machine-Learning/blob/main/Image_Classification.ipynb\" target=\"_parent\"><img src=\"https://colab.research.google.com/assets/colab-badge.svg\" alt=\"Open In Colab\"/></a>"
      ]
    },
    {
      "cell_type": "markdown",
      "source": [
        "DSCI 552 Final Project Zeru Zhou 9208818138"
      ],
      "metadata": {
        "id": "14wib3t2eG9G"
      }
    },
    {
      "cell_type": "code",
      "source": [
        "!pip install split-folders"
      ],
      "metadata": {
        "colab": {
          "base_uri": "https://localhost:8080/"
        },
        "id": "vG6qWLkTeW2f",
        "outputId": "d7f581da-a9eb-4638-9e78-e111acd69f84"
      },
      "execution_count": null,
      "outputs": [
        {
          "output_type": "stream",
          "name": "stdout",
          "text": [
            "Looking in indexes: https://pypi.org/simple, https://us-python.pkg.dev/colab-wheels/public/simple/\n",
            "Requirement already satisfied: split-folders in /usr/local/lib/python3.8/dist-packages (0.5.1)\n"
          ]
        }
      ]
    },
    {
      "cell_type": "code",
      "source": [
        "!pip install livelossplot"
      ],
      "metadata": {
        "colab": {
          "base_uri": "https://localhost:8080/"
        },
        "id": "bpkEBcB9G-yL",
        "outputId": "743e025d-1bf4-423d-bec3-237c7f4f0bf7"
      },
      "execution_count": null,
      "outputs": [
        {
          "output_type": "stream",
          "name": "stdout",
          "text": [
            "Looking in indexes: https://pypi.org/simple, https://us-python.pkg.dev/colab-wheels/public/simple/\n",
            "Collecting livelossplot\n",
            "  Downloading livelossplot-0.5.5-py3-none-any.whl (22 kB)\n",
            "Requirement already satisfied: bokeh in /usr/local/lib/python3.8/dist-packages (from livelossplot) (2.3.3)\n",
            "Requirement already satisfied: matplotlib in /usr/local/lib/python3.8/dist-packages (from livelossplot) (3.2.2)\n",
            "Requirement already satisfied: Jinja2>=2.9 in /usr/local/lib/python3.8/dist-packages (from bokeh->livelossplot) (2.11.3)\n",
            "Requirement already satisfied: pillow>=7.1.0 in /usr/local/lib/python3.8/dist-packages (from bokeh->livelossplot) (7.1.2)\n",
            "Requirement already satisfied: PyYAML>=3.10 in /usr/local/lib/python3.8/dist-packages (from bokeh->livelossplot) (6.0)\n",
            "Requirement already satisfied: numpy>=1.11.3 in /usr/local/lib/python3.8/dist-packages (from bokeh->livelossplot) (1.21.6)\n",
            "Requirement already satisfied: tornado>=5.1 in /usr/local/lib/python3.8/dist-packages (from bokeh->livelossplot) (6.0.4)\n",
            "Requirement already satisfied: typing-extensions>=3.7.4 in /usr/local/lib/python3.8/dist-packages (from bokeh->livelossplot) (4.4.0)\n",
            "Requirement already satisfied: python-dateutil>=2.1 in /usr/local/lib/python3.8/dist-packages (from bokeh->livelossplot) (2.8.2)\n",
            "Requirement already satisfied: packaging>=16.8 in /usr/local/lib/python3.8/dist-packages (from bokeh->livelossplot) (21.3)\n",
            "Requirement already satisfied: MarkupSafe>=0.23 in /usr/local/lib/python3.8/dist-packages (from Jinja2>=2.9->bokeh->livelossplot) (2.0.1)\n",
            "Requirement already satisfied: pyparsing!=3.0.5,>=2.0.2 in /usr/local/lib/python3.8/dist-packages (from packaging>=16.8->bokeh->livelossplot) (3.0.9)\n",
            "Requirement already satisfied: six>=1.5 in /usr/local/lib/python3.8/dist-packages (from python-dateutil>=2.1->bokeh->livelossplot) (1.15.0)\n",
            "Requirement already satisfied: cycler>=0.10 in /usr/local/lib/python3.8/dist-packages (from matplotlib->livelossplot) (0.11.0)\n",
            "Requirement already satisfied: kiwisolver>=1.0.1 in /usr/local/lib/python3.8/dist-packages (from matplotlib->livelossplot) (1.4.4)\n",
            "Installing collected packages: livelossplot\n",
            "Successfully installed livelossplot-0.5.5\n"
          ]
        }
      ]
    },
    {
      "cell_type": "code",
      "source": [
        "import tensorflow as tf\n",
        "import pandas as pd\n",
        "from tensorflow import keras\n",
        "from google.colab import drive\n",
        "import math\n",
        "import os\n",
        "import splitfolders\n",
        "import tensorflow_datasets as tfds\n",
        "import numpy as np\n",
        "tf.compat.v1.logging.set_verbosity(tf.compat.v1.logging.ERROR)\n",
        "from keras.preprocessing.image import ImageDataGenerator\n",
        "from livelossplot import PlotLossesKeras \n",
        "from sklearn.metrics import accuracy_score, precision_score, recall_score, f1_score"
      ],
      "metadata": {
        "id": "zmPA9VZdXuTk"
      },
      "execution_count": null,
      "outputs": []
    },
    {
      "cell_type": "code",
      "source": [
        "drive.mount('/content/drive')"
      ],
      "metadata": {
        "colab": {
          "base_uri": "https://localhost:8080/"
        },
        "id": "n9GgaFetg5_b",
        "outputId": "1d746451-874f-4e0f-d082-25619935cde6"
      },
      "execution_count": null,
      "outputs": [
        {
          "output_type": "stream",
          "name": "stdout",
          "text": [
            "Mounted at /content/drive\n"
          ]
        }
      ]
    },
    {
      "cell_type": "markdown",
      "source": [
        "## (a) In this problem, we are trying to build a classifier that distinguishes images of 20 bird species. You are provided with text data in twenty folders."
      ],
      "metadata": {
        "id": "0quOM-BokZC-"
      }
    },
    {
      "cell_type": "code",
      "source": [
        "class_df = pd.read_excel('/content/drive/MyDrive/PDF_Project/Data/Classes.xlsx')\n",
        "class_df"
      ],
      "metadata": {
        "colab": {
          "base_uri": "https://localhost:8080/",
          "height": 676
        },
        "id": "PkXIYUJoknxj",
        "outputId": "5ba337a6-a6e9-4924-a132-87d8e0ea9493"
      },
      "execution_count": null,
      "outputs": [
        {
          "output_type": "execute_result",
          "data": {
            "text/plain": [
              "                     Folder Name   Class\n",
              "0              005.Crested_Auklet      0\n",
              "1                    013.Bobolink      1\n",
              "2              015.Lazuli_Bunting      2\n",
              "3            023.Brandt_Cormorant      3\n",
              "4      040.Olive_sided_Flycatcher      4\n",
              "5   041.Scissor_tailed_Flycatcher      5\n",
              "6            067.Anna_Hummingbird      6\n",
              "7             072.Pomarine_Jaeger      7\n",
              "8             076.Dark_eyed_Junco      8\n",
              "9             081.Pied_Kingfisher      9\n",
              "10          082.Ringed_Kingfisher     10\n",
              "11               086.Pacific_Loon     11\n",
              "12                   099.Ovenbird     12\n",
              "13             104.American_Pipit     13\n",
              "14           127.Savannah_Sparrow     14\n",
              "15               135.Bank_Swallow     15\n",
              "16                 141.Artic_Tern     16\n",
              "17             149.Brown_Thrasher     17\n",
              "18           156.White_eyed_Vireo     18\n",
              "19           168.Kentucky_Warbler     19"
            ],
            "text/html": [
              "\n",
              "  <div id=\"df-190d98fd-2631-42ee-9777-bd761c180638\">\n",
              "    <div class=\"colab-df-container\">\n",
              "      <div>\n",
              "<style scoped>\n",
              "    .dataframe tbody tr th:only-of-type {\n",
              "        vertical-align: middle;\n",
              "    }\n",
              "\n",
              "    .dataframe tbody tr th {\n",
              "        vertical-align: top;\n",
              "    }\n",
              "\n",
              "    .dataframe thead th {\n",
              "        text-align: right;\n",
              "    }\n",
              "</style>\n",
              "<table border=\"1\" class=\"dataframe\">\n",
              "  <thead>\n",
              "    <tr style=\"text-align: right;\">\n",
              "      <th></th>\n",
              "      <th>Folder Name</th>\n",
              "      <th>Class</th>\n",
              "    </tr>\n",
              "  </thead>\n",
              "  <tbody>\n",
              "    <tr>\n",
              "      <th>0</th>\n",
              "      <td>005.Crested_Auklet</td>\n",
              "      <td>0</td>\n",
              "    </tr>\n",
              "    <tr>\n",
              "      <th>1</th>\n",
              "      <td>013.Bobolink</td>\n",
              "      <td>1</td>\n",
              "    </tr>\n",
              "    <tr>\n",
              "      <th>2</th>\n",
              "      <td>015.Lazuli_Bunting</td>\n",
              "      <td>2</td>\n",
              "    </tr>\n",
              "    <tr>\n",
              "      <th>3</th>\n",
              "      <td>023.Brandt_Cormorant</td>\n",
              "      <td>3</td>\n",
              "    </tr>\n",
              "    <tr>\n",
              "      <th>4</th>\n",
              "      <td>040.Olive_sided_Flycatcher</td>\n",
              "      <td>4</td>\n",
              "    </tr>\n",
              "    <tr>\n",
              "      <th>5</th>\n",
              "      <td>041.Scissor_tailed_Flycatcher</td>\n",
              "      <td>5</td>\n",
              "    </tr>\n",
              "    <tr>\n",
              "      <th>6</th>\n",
              "      <td>067.Anna_Hummingbird</td>\n",
              "      <td>6</td>\n",
              "    </tr>\n",
              "    <tr>\n",
              "      <th>7</th>\n",
              "      <td>072.Pomarine_Jaeger</td>\n",
              "      <td>7</td>\n",
              "    </tr>\n",
              "    <tr>\n",
              "      <th>8</th>\n",
              "      <td>076.Dark_eyed_Junco</td>\n",
              "      <td>8</td>\n",
              "    </tr>\n",
              "    <tr>\n",
              "      <th>9</th>\n",
              "      <td>081.Pied_Kingfisher</td>\n",
              "      <td>9</td>\n",
              "    </tr>\n",
              "    <tr>\n",
              "      <th>10</th>\n",
              "      <td>082.Ringed_Kingfisher</td>\n",
              "      <td>10</td>\n",
              "    </tr>\n",
              "    <tr>\n",
              "      <th>11</th>\n",
              "      <td>086.Pacific_Loon</td>\n",
              "      <td>11</td>\n",
              "    </tr>\n",
              "    <tr>\n",
              "      <th>12</th>\n",
              "      <td>099.Ovenbird</td>\n",
              "      <td>12</td>\n",
              "    </tr>\n",
              "    <tr>\n",
              "      <th>13</th>\n",
              "      <td>104.American_Pipit</td>\n",
              "      <td>13</td>\n",
              "    </tr>\n",
              "    <tr>\n",
              "      <th>14</th>\n",
              "      <td>127.Savannah_Sparrow</td>\n",
              "      <td>14</td>\n",
              "    </tr>\n",
              "    <tr>\n",
              "      <th>15</th>\n",
              "      <td>135.Bank_Swallow</td>\n",
              "      <td>15</td>\n",
              "    </tr>\n",
              "    <tr>\n",
              "      <th>16</th>\n",
              "      <td>141.Artic_Tern</td>\n",
              "      <td>16</td>\n",
              "    </tr>\n",
              "    <tr>\n",
              "      <th>17</th>\n",
              "      <td>149.Brown_Thrasher</td>\n",
              "      <td>17</td>\n",
              "    </tr>\n",
              "    <tr>\n",
              "      <th>18</th>\n",
              "      <td>156.White_eyed_Vireo</td>\n",
              "      <td>18</td>\n",
              "    </tr>\n",
              "    <tr>\n",
              "      <th>19</th>\n",
              "      <td>168.Kentucky_Warbler</td>\n",
              "      <td>19</td>\n",
              "    </tr>\n",
              "  </tbody>\n",
              "</table>\n",
              "</div>\n",
              "      <button class=\"colab-df-convert\" onclick=\"convertToInteractive('df-190d98fd-2631-42ee-9777-bd761c180638')\"\n",
              "              title=\"Convert this dataframe to an interactive table.\"\n",
              "              style=\"display:none;\">\n",
              "        \n",
              "  <svg xmlns=\"http://www.w3.org/2000/svg\" height=\"24px\"viewBox=\"0 0 24 24\"\n",
              "       width=\"24px\">\n",
              "    <path d=\"M0 0h24v24H0V0z\" fill=\"none\"/>\n",
              "    <path d=\"M18.56 5.44l.94 2.06.94-2.06 2.06-.94-2.06-.94-.94-2.06-.94 2.06-2.06.94zm-11 1L8.5 8.5l.94-2.06 2.06-.94-2.06-.94L8.5 2.5l-.94 2.06-2.06.94zm10 10l.94 2.06.94-2.06 2.06-.94-2.06-.94-.94-2.06-.94 2.06-2.06.94z\"/><path d=\"M17.41 7.96l-1.37-1.37c-.4-.4-.92-.59-1.43-.59-.52 0-1.04.2-1.43.59L10.3 9.45l-7.72 7.72c-.78.78-.78 2.05 0 2.83L4 21.41c.39.39.9.59 1.41.59.51 0 1.02-.2 1.41-.59l7.78-7.78 2.81-2.81c.8-.78.8-2.07 0-2.86zM5.41 20L4 18.59l7.72-7.72 1.47 1.35L5.41 20z\"/>\n",
              "  </svg>\n",
              "      </button>\n",
              "      \n",
              "  <style>\n",
              "    .colab-df-container {\n",
              "      display:flex;\n",
              "      flex-wrap:wrap;\n",
              "      gap: 12px;\n",
              "    }\n",
              "\n",
              "    .colab-df-convert {\n",
              "      background-color: #E8F0FE;\n",
              "      border: none;\n",
              "      border-radius: 50%;\n",
              "      cursor: pointer;\n",
              "      display: none;\n",
              "      fill: #1967D2;\n",
              "      height: 32px;\n",
              "      padding: 0 0 0 0;\n",
              "      width: 32px;\n",
              "    }\n",
              "\n",
              "    .colab-df-convert:hover {\n",
              "      background-color: #E2EBFA;\n",
              "      box-shadow: 0px 1px 2px rgba(60, 64, 67, 0.3), 0px 1px 3px 1px rgba(60, 64, 67, 0.15);\n",
              "      fill: #174EA6;\n",
              "    }\n",
              "\n",
              "    [theme=dark] .colab-df-convert {\n",
              "      background-color: #3B4455;\n",
              "      fill: #D2E3FC;\n",
              "    }\n",
              "\n",
              "    [theme=dark] .colab-df-convert:hover {\n",
              "      background-color: #434B5C;\n",
              "      box-shadow: 0px 1px 3px 1px rgba(0, 0, 0, 0.15);\n",
              "      filter: drop-shadow(0px 1px 2px rgba(0, 0, 0, 0.3));\n",
              "      fill: #FFFFFF;\n",
              "    }\n",
              "  </style>\n",
              "\n",
              "      <script>\n",
              "        const buttonEl =\n",
              "          document.querySelector('#df-190d98fd-2631-42ee-9777-bd761c180638 button.colab-df-convert');\n",
              "        buttonEl.style.display =\n",
              "          google.colab.kernel.accessAllowed ? 'block' : 'none';\n",
              "\n",
              "        async function convertToInteractive(key) {\n",
              "          const element = document.querySelector('#df-190d98fd-2631-42ee-9777-bd761c180638');\n",
              "          const dataTable =\n",
              "            await google.colab.kernel.invokeFunction('convertToInteractive',\n",
              "                                                     [key], {});\n",
              "          if (!dataTable) return;\n",
              "\n",
              "          const docLinkHtml = 'Like what you see? Visit the ' +\n",
              "            '<a target=\"_blank\" href=https://colab.research.google.com/notebooks/data_table.ipynb>data table notebook</a>'\n",
              "            + ' to learn more about interactive tables.';\n",
              "          element.innerHTML = '';\n",
              "          dataTable['output_type'] = 'display_data';\n",
              "          await google.colab.output.renderOutput(dataTable, element);\n",
              "          const docLink = document.createElement('div');\n",
              "          docLink.innerHTML = docLinkHtml;\n",
              "          element.appendChild(docLink);\n",
              "        }\n",
              "      </script>\n",
              "    </div>\n",
              "  </div>\n",
              "  "
            ]
          },
          "metadata": {},
          "execution_count": 5
        }
      ]
    },
    {
      "cell_type": "markdown",
      "source": [
        "I mounted the data folder from google drive to google colab."
      ],
      "metadata": {
        "id": "kPcC_10gnk7m"
      }
    },
    {
      "cell_type": "markdown",
      "source": [
        "## (b) Data Exploration and Pre-processing\n",
        "### i. Images in each class are given in separate folders. The file Classes.xlsx pro\u0002vides the classes assigned to the bird species images in each folder. Therefore, you encode your classes using one-hot encoding and Classes.xlsx.\n",
        "\n"
      ],
      "metadata": {
        "id": "oX7Jw8oNnRfw"
      }
    },
    {
      "cell_type": "code",
      "source": [
        "class_df = pd.get_dummies(data=class_df, columns=['Class'])    #OneHotEncoding\n",
        "class_df"
      ],
      "metadata": {
        "colab": {
          "base_uri": "https://localhost:8080/",
          "height": 706
        },
        "id": "QxT61YcyklMD",
        "outputId": "2980ab07-b17a-4e21-b769-a8f3207ce78f"
      },
      "execution_count": null,
      "outputs": [
        {
          "output_type": "execute_result",
          "data": {
            "text/plain": [
              "                     Folder Name   Class_0  Class_1  Class_2  Class_3  \\\n",
              "0              005.Crested_Auklet        1        0        0        0   \n",
              "1                    013.Bobolink        0        1        0        0   \n",
              "2              015.Lazuli_Bunting        0        0        1        0   \n",
              "3            023.Brandt_Cormorant        0        0        0        1   \n",
              "4      040.Olive_sided_Flycatcher        0        0        0        0   \n",
              "5   041.Scissor_tailed_Flycatcher        0        0        0        0   \n",
              "6            067.Anna_Hummingbird        0        0        0        0   \n",
              "7             072.Pomarine_Jaeger        0        0        0        0   \n",
              "8             076.Dark_eyed_Junco        0        0        0        0   \n",
              "9             081.Pied_Kingfisher        0        0        0        0   \n",
              "10          082.Ringed_Kingfisher        0        0        0        0   \n",
              "11               086.Pacific_Loon        0        0        0        0   \n",
              "12                   099.Ovenbird        0        0        0        0   \n",
              "13             104.American_Pipit        0        0        0        0   \n",
              "14           127.Savannah_Sparrow        0        0        0        0   \n",
              "15               135.Bank_Swallow        0        0        0        0   \n",
              "16                 141.Artic_Tern        0        0        0        0   \n",
              "17             149.Brown_Thrasher        0        0        0        0   \n",
              "18           156.White_eyed_Vireo        0        0        0        0   \n",
              "19           168.Kentucky_Warbler        0        0        0        0   \n",
              "\n",
              "    Class_4  Class_5  Class_6  Class_7  Class_8  ...  Class_10  Class_11  \\\n",
              "0         0        0        0        0        0  ...         0         0   \n",
              "1         0        0        0        0        0  ...         0         0   \n",
              "2         0        0        0        0        0  ...         0         0   \n",
              "3         0        0        0        0        0  ...         0         0   \n",
              "4         1        0        0        0        0  ...         0         0   \n",
              "5         0        1        0        0        0  ...         0         0   \n",
              "6         0        0        1        0        0  ...         0         0   \n",
              "7         0        0        0        1        0  ...         0         0   \n",
              "8         0        0        0        0        1  ...         0         0   \n",
              "9         0        0        0        0        0  ...         0         0   \n",
              "10        0        0        0        0        0  ...         1         0   \n",
              "11        0        0        0        0        0  ...         0         1   \n",
              "12        0        0        0        0        0  ...         0         0   \n",
              "13        0        0        0        0        0  ...         0         0   \n",
              "14        0        0        0        0        0  ...         0         0   \n",
              "15        0        0        0        0        0  ...         0         0   \n",
              "16        0        0        0        0        0  ...         0         0   \n",
              "17        0        0        0        0        0  ...         0         0   \n",
              "18        0        0        0        0        0  ...         0         0   \n",
              "19        0        0        0        0        0  ...         0         0   \n",
              "\n",
              "    Class_12  Class_13  Class_14  Class_15  Class_16  Class_17  Class_18  \\\n",
              "0          0         0         0         0         0         0         0   \n",
              "1          0         0         0         0         0         0         0   \n",
              "2          0         0         0         0         0         0         0   \n",
              "3          0         0         0         0         0         0         0   \n",
              "4          0         0         0         0         0         0         0   \n",
              "5          0         0         0         0         0         0         0   \n",
              "6          0         0         0         0         0         0         0   \n",
              "7          0         0         0         0         0         0         0   \n",
              "8          0         0         0         0         0         0         0   \n",
              "9          0         0         0         0         0         0         0   \n",
              "10         0         0         0         0         0         0         0   \n",
              "11         0         0         0         0         0         0         0   \n",
              "12         1         0         0         0         0         0         0   \n",
              "13         0         1         0         0         0         0         0   \n",
              "14         0         0         1         0         0         0         0   \n",
              "15         0         0         0         1         0         0         0   \n",
              "16         0         0         0         0         1         0         0   \n",
              "17         0         0         0         0         0         1         0   \n",
              "18         0         0         0         0         0         0         1   \n",
              "19         0         0         0         0         0         0         0   \n",
              "\n",
              "    Class_19  \n",
              "0          0  \n",
              "1          0  \n",
              "2          0  \n",
              "3          0  \n",
              "4          0  \n",
              "5          0  \n",
              "6          0  \n",
              "7          0  \n",
              "8          0  \n",
              "9          0  \n",
              "10         0  \n",
              "11         0  \n",
              "12         0  \n",
              "13         0  \n",
              "14         0  \n",
              "15         0  \n",
              "16         0  \n",
              "17         0  \n",
              "18         0  \n",
              "19         1  \n",
              "\n",
              "[20 rows x 21 columns]"
            ],
            "text/html": [
              "\n",
              "  <div id=\"df-b4a02200-61d6-4fc7-a7d6-cecd64b640ba\">\n",
              "    <div class=\"colab-df-container\">\n",
              "      <div>\n",
              "<style scoped>\n",
              "    .dataframe tbody tr th:only-of-type {\n",
              "        vertical-align: middle;\n",
              "    }\n",
              "\n",
              "    .dataframe tbody tr th {\n",
              "        vertical-align: top;\n",
              "    }\n",
              "\n",
              "    .dataframe thead th {\n",
              "        text-align: right;\n",
              "    }\n",
              "</style>\n",
              "<table border=\"1\" class=\"dataframe\">\n",
              "  <thead>\n",
              "    <tr style=\"text-align: right;\">\n",
              "      <th></th>\n",
              "      <th>Folder Name</th>\n",
              "      <th>Class_0</th>\n",
              "      <th>Class_1</th>\n",
              "      <th>Class_2</th>\n",
              "      <th>Class_3</th>\n",
              "      <th>Class_4</th>\n",
              "      <th>Class_5</th>\n",
              "      <th>Class_6</th>\n",
              "      <th>Class_7</th>\n",
              "      <th>Class_8</th>\n",
              "      <th>...</th>\n",
              "      <th>Class_10</th>\n",
              "      <th>Class_11</th>\n",
              "      <th>Class_12</th>\n",
              "      <th>Class_13</th>\n",
              "      <th>Class_14</th>\n",
              "      <th>Class_15</th>\n",
              "      <th>Class_16</th>\n",
              "      <th>Class_17</th>\n",
              "      <th>Class_18</th>\n",
              "      <th>Class_19</th>\n",
              "    </tr>\n",
              "  </thead>\n",
              "  <tbody>\n",
              "    <tr>\n",
              "      <th>0</th>\n",
              "      <td>005.Crested_Auklet</td>\n",
              "      <td>1</td>\n",
              "      <td>0</td>\n",
              "      <td>0</td>\n",
              "      <td>0</td>\n",
              "      <td>0</td>\n",
              "      <td>0</td>\n",
              "      <td>0</td>\n",
              "      <td>0</td>\n",
              "      <td>0</td>\n",
              "      <td>...</td>\n",
              "      <td>0</td>\n",
              "      <td>0</td>\n",
              "      <td>0</td>\n",
              "      <td>0</td>\n",
              "      <td>0</td>\n",
              "      <td>0</td>\n",
              "      <td>0</td>\n",
              "      <td>0</td>\n",
              "      <td>0</td>\n",
              "      <td>0</td>\n",
              "    </tr>\n",
              "    <tr>\n",
              "      <th>1</th>\n",
              "      <td>013.Bobolink</td>\n",
              "      <td>0</td>\n",
              "      <td>1</td>\n",
              "      <td>0</td>\n",
              "      <td>0</td>\n",
              "      <td>0</td>\n",
              "      <td>0</td>\n",
              "      <td>0</td>\n",
              "      <td>0</td>\n",
              "      <td>0</td>\n",
              "      <td>...</td>\n",
              "      <td>0</td>\n",
              "      <td>0</td>\n",
              "      <td>0</td>\n",
              "      <td>0</td>\n",
              "      <td>0</td>\n",
              "      <td>0</td>\n",
              "      <td>0</td>\n",
              "      <td>0</td>\n",
              "      <td>0</td>\n",
              "      <td>0</td>\n",
              "    </tr>\n",
              "    <tr>\n",
              "      <th>2</th>\n",
              "      <td>015.Lazuli_Bunting</td>\n",
              "      <td>0</td>\n",
              "      <td>0</td>\n",
              "      <td>1</td>\n",
              "      <td>0</td>\n",
              "      <td>0</td>\n",
              "      <td>0</td>\n",
              "      <td>0</td>\n",
              "      <td>0</td>\n",
              "      <td>0</td>\n",
              "      <td>...</td>\n",
              "      <td>0</td>\n",
              "      <td>0</td>\n",
              "      <td>0</td>\n",
              "      <td>0</td>\n",
              "      <td>0</td>\n",
              "      <td>0</td>\n",
              "      <td>0</td>\n",
              "      <td>0</td>\n",
              "      <td>0</td>\n",
              "      <td>0</td>\n",
              "    </tr>\n",
              "    <tr>\n",
              "      <th>3</th>\n",
              "      <td>023.Brandt_Cormorant</td>\n",
              "      <td>0</td>\n",
              "      <td>0</td>\n",
              "      <td>0</td>\n",
              "      <td>1</td>\n",
              "      <td>0</td>\n",
              "      <td>0</td>\n",
              "      <td>0</td>\n",
              "      <td>0</td>\n",
              "      <td>0</td>\n",
              "      <td>...</td>\n",
              "      <td>0</td>\n",
              "      <td>0</td>\n",
              "      <td>0</td>\n",
              "      <td>0</td>\n",
              "      <td>0</td>\n",
              "      <td>0</td>\n",
              "      <td>0</td>\n",
              "      <td>0</td>\n",
              "      <td>0</td>\n",
              "      <td>0</td>\n",
              "    </tr>\n",
              "    <tr>\n",
              "      <th>4</th>\n",
              "      <td>040.Olive_sided_Flycatcher</td>\n",
              "      <td>0</td>\n",
              "      <td>0</td>\n",
              "      <td>0</td>\n",
              "      <td>0</td>\n",
              "      <td>1</td>\n",
              "      <td>0</td>\n",
              "      <td>0</td>\n",
              "      <td>0</td>\n",
              "      <td>0</td>\n",
              "      <td>...</td>\n",
              "      <td>0</td>\n",
              "      <td>0</td>\n",
              "      <td>0</td>\n",
              "      <td>0</td>\n",
              "      <td>0</td>\n",
              "      <td>0</td>\n",
              "      <td>0</td>\n",
              "      <td>0</td>\n",
              "      <td>0</td>\n",
              "      <td>0</td>\n",
              "    </tr>\n",
              "    <tr>\n",
              "      <th>5</th>\n",
              "      <td>041.Scissor_tailed_Flycatcher</td>\n",
              "      <td>0</td>\n",
              "      <td>0</td>\n",
              "      <td>0</td>\n",
              "      <td>0</td>\n",
              "      <td>0</td>\n",
              "      <td>1</td>\n",
              "      <td>0</td>\n",
              "      <td>0</td>\n",
              "      <td>0</td>\n",
              "      <td>...</td>\n",
              "      <td>0</td>\n",
              "      <td>0</td>\n",
              "      <td>0</td>\n",
              "      <td>0</td>\n",
              "      <td>0</td>\n",
              "      <td>0</td>\n",
              "      <td>0</td>\n",
              "      <td>0</td>\n",
              "      <td>0</td>\n",
              "      <td>0</td>\n",
              "    </tr>\n",
              "    <tr>\n",
              "      <th>6</th>\n",
              "      <td>067.Anna_Hummingbird</td>\n",
              "      <td>0</td>\n",
              "      <td>0</td>\n",
              "      <td>0</td>\n",
              "      <td>0</td>\n",
              "      <td>0</td>\n",
              "      <td>0</td>\n",
              "      <td>1</td>\n",
              "      <td>0</td>\n",
              "      <td>0</td>\n",
              "      <td>...</td>\n",
              "      <td>0</td>\n",
              "      <td>0</td>\n",
              "      <td>0</td>\n",
              "      <td>0</td>\n",
              "      <td>0</td>\n",
              "      <td>0</td>\n",
              "      <td>0</td>\n",
              "      <td>0</td>\n",
              "      <td>0</td>\n",
              "      <td>0</td>\n",
              "    </tr>\n",
              "    <tr>\n",
              "      <th>7</th>\n",
              "      <td>072.Pomarine_Jaeger</td>\n",
              "      <td>0</td>\n",
              "      <td>0</td>\n",
              "      <td>0</td>\n",
              "      <td>0</td>\n",
              "      <td>0</td>\n",
              "      <td>0</td>\n",
              "      <td>0</td>\n",
              "      <td>1</td>\n",
              "      <td>0</td>\n",
              "      <td>...</td>\n",
              "      <td>0</td>\n",
              "      <td>0</td>\n",
              "      <td>0</td>\n",
              "      <td>0</td>\n",
              "      <td>0</td>\n",
              "      <td>0</td>\n",
              "      <td>0</td>\n",
              "      <td>0</td>\n",
              "      <td>0</td>\n",
              "      <td>0</td>\n",
              "    </tr>\n",
              "    <tr>\n",
              "      <th>8</th>\n",
              "      <td>076.Dark_eyed_Junco</td>\n",
              "      <td>0</td>\n",
              "      <td>0</td>\n",
              "      <td>0</td>\n",
              "      <td>0</td>\n",
              "      <td>0</td>\n",
              "      <td>0</td>\n",
              "      <td>0</td>\n",
              "      <td>0</td>\n",
              "      <td>1</td>\n",
              "      <td>...</td>\n",
              "      <td>0</td>\n",
              "      <td>0</td>\n",
              "      <td>0</td>\n",
              "      <td>0</td>\n",
              "      <td>0</td>\n",
              "      <td>0</td>\n",
              "      <td>0</td>\n",
              "      <td>0</td>\n",
              "      <td>0</td>\n",
              "      <td>0</td>\n",
              "    </tr>\n",
              "    <tr>\n",
              "      <th>9</th>\n",
              "      <td>081.Pied_Kingfisher</td>\n",
              "      <td>0</td>\n",
              "      <td>0</td>\n",
              "      <td>0</td>\n",
              "      <td>0</td>\n",
              "      <td>0</td>\n",
              "      <td>0</td>\n",
              "      <td>0</td>\n",
              "      <td>0</td>\n",
              "      <td>0</td>\n",
              "      <td>...</td>\n",
              "      <td>0</td>\n",
              "      <td>0</td>\n",
              "      <td>0</td>\n",
              "      <td>0</td>\n",
              "      <td>0</td>\n",
              "      <td>0</td>\n",
              "      <td>0</td>\n",
              "      <td>0</td>\n",
              "      <td>0</td>\n",
              "      <td>0</td>\n",
              "    </tr>\n",
              "    <tr>\n",
              "      <th>10</th>\n",
              "      <td>082.Ringed_Kingfisher</td>\n",
              "      <td>0</td>\n",
              "      <td>0</td>\n",
              "      <td>0</td>\n",
              "      <td>0</td>\n",
              "      <td>0</td>\n",
              "      <td>0</td>\n",
              "      <td>0</td>\n",
              "      <td>0</td>\n",
              "      <td>0</td>\n",
              "      <td>...</td>\n",
              "      <td>1</td>\n",
              "      <td>0</td>\n",
              "      <td>0</td>\n",
              "      <td>0</td>\n",
              "      <td>0</td>\n",
              "      <td>0</td>\n",
              "      <td>0</td>\n",
              "      <td>0</td>\n",
              "      <td>0</td>\n",
              "      <td>0</td>\n",
              "    </tr>\n",
              "    <tr>\n",
              "      <th>11</th>\n",
              "      <td>086.Pacific_Loon</td>\n",
              "      <td>0</td>\n",
              "      <td>0</td>\n",
              "      <td>0</td>\n",
              "      <td>0</td>\n",
              "      <td>0</td>\n",
              "      <td>0</td>\n",
              "      <td>0</td>\n",
              "      <td>0</td>\n",
              "      <td>0</td>\n",
              "      <td>...</td>\n",
              "      <td>0</td>\n",
              "      <td>1</td>\n",
              "      <td>0</td>\n",
              "      <td>0</td>\n",
              "      <td>0</td>\n",
              "      <td>0</td>\n",
              "      <td>0</td>\n",
              "      <td>0</td>\n",
              "      <td>0</td>\n",
              "      <td>0</td>\n",
              "    </tr>\n",
              "    <tr>\n",
              "      <th>12</th>\n",
              "      <td>099.Ovenbird</td>\n",
              "      <td>0</td>\n",
              "      <td>0</td>\n",
              "      <td>0</td>\n",
              "      <td>0</td>\n",
              "      <td>0</td>\n",
              "      <td>0</td>\n",
              "      <td>0</td>\n",
              "      <td>0</td>\n",
              "      <td>0</td>\n",
              "      <td>...</td>\n",
              "      <td>0</td>\n",
              "      <td>0</td>\n",
              "      <td>1</td>\n",
              "      <td>0</td>\n",
              "      <td>0</td>\n",
              "      <td>0</td>\n",
              "      <td>0</td>\n",
              "      <td>0</td>\n",
              "      <td>0</td>\n",
              "      <td>0</td>\n",
              "    </tr>\n",
              "    <tr>\n",
              "      <th>13</th>\n",
              "      <td>104.American_Pipit</td>\n",
              "      <td>0</td>\n",
              "      <td>0</td>\n",
              "      <td>0</td>\n",
              "      <td>0</td>\n",
              "      <td>0</td>\n",
              "      <td>0</td>\n",
              "      <td>0</td>\n",
              "      <td>0</td>\n",
              "      <td>0</td>\n",
              "      <td>...</td>\n",
              "      <td>0</td>\n",
              "      <td>0</td>\n",
              "      <td>0</td>\n",
              "      <td>1</td>\n",
              "      <td>0</td>\n",
              "      <td>0</td>\n",
              "      <td>0</td>\n",
              "      <td>0</td>\n",
              "      <td>0</td>\n",
              "      <td>0</td>\n",
              "    </tr>\n",
              "    <tr>\n",
              "      <th>14</th>\n",
              "      <td>127.Savannah_Sparrow</td>\n",
              "      <td>0</td>\n",
              "      <td>0</td>\n",
              "      <td>0</td>\n",
              "      <td>0</td>\n",
              "      <td>0</td>\n",
              "      <td>0</td>\n",
              "      <td>0</td>\n",
              "      <td>0</td>\n",
              "      <td>0</td>\n",
              "      <td>...</td>\n",
              "      <td>0</td>\n",
              "      <td>0</td>\n",
              "      <td>0</td>\n",
              "      <td>0</td>\n",
              "      <td>1</td>\n",
              "      <td>0</td>\n",
              "      <td>0</td>\n",
              "      <td>0</td>\n",
              "      <td>0</td>\n",
              "      <td>0</td>\n",
              "    </tr>\n",
              "    <tr>\n",
              "      <th>15</th>\n",
              "      <td>135.Bank_Swallow</td>\n",
              "      <td>0</td>\n",
              "      <td>0</td>\n",
              "      <td>0</td>\n",
              "      <td>0</td>\n",
              "      <td>0</td>\n",
              "      <td>0</td>\n",
              "      <td>0</td>\n",
              "      <td>0</td>\n",
              "      <td>0</td>\n",
              "      <td>...</td>\n",
              "      <td>0</td>\n",
              "      <td>0</td>\n",
              "      <td>0</td>\n",
              "      <td>0</td>\n",
              "      <td>0</td>\n",
              "      <td>1</td>\n",
              "      <td>0</td>\n",
              "      <td>0</td>\n",
              "      <td>0</td>\n",
              "      <td>0</td>\n",
              "    </tr>\n",
              "    <tr>\n",
              "      <th>16</th>\n",
              "      <td>141.Artic_Tern</td>\n",
              "      <td>0</td>\n",
              "      <td>0</td>\n",
              "      <td>0</td>\n",
              "      <td>0</td>\n",
              "      <td>0</td>\n",
              "      <td>0</td>\n",
              "      <td>0</td>\n",
              "      <td>0</td>\n",
              "      <td>0</td>\n",
              "      <td>...</td>\n",
              "      <td>0</td>\n",
              "      <td>0</td>\n",
              "      <td>0</td>\n",
              "      <td>0</td>\n",
              "      <td>0</td>\n",
              "      <td>0</td>\n",
              "      <td>1</td>\n",
              "      <td>0</td>\n",
              "      <td>0</td>\n",
              "      <td>0</td>\n",
              "    </tr>\n",
              "    <tr>\n",
              "      <th>17</th>\n",
              "      <td>149.Brown_Thrasher</td>\n",
              "      <td>0</td>\n",
              "      <td>0</td>\n",
              "      <td>0</td>\n",
              "      <td>0</td>\n",
              "      <td>0</td>\n",
              "      <td>0</td>\n",
              "      <td>0</td>\n",
              "      <td>0</td>\n",
              "      <td>0</td>\n",
              "      <td>...</td>\n",
              "      <td>0</td>\n",
              "      <td>0</td>\n",
              "      <td>0</td>\n",
              "      <td>0</td>\n",
              "      <td>0</td>\n",
              "      <td>0</td>\n",
              "      <td>0</td>\n",
              "      <td>1</td>\n",
              "      <td>0</td>\n",
              "      <td>0</td>\n",
              "    </tr>\n",
              "    <tr>\n",
              "      <th>18</th>\n",
              "      <td>156.White_eyed_Vireo</td>\n",
              "      <td>0</td>\n",
              "      <td>0</td>\n",
              "      <td>0</td>\n",
              "      <td>0</td>\n",
              "      <td>0</td>\n",
              "      <td>0</td>\n",
              "      <td>0</td>\n",
              "      <td>0</td>\n",
              "      <td>0</td>\n",
              "      <td>...</td>\n",
              "      <td>0</td>\n",
              "      <td>0</td>\n",
              "      <td>0</td>\n",
              "      <td>0</td>\n",
              "      <td>0</td>\n",
              "      <td>0</td>\n",
              "      <td>0</td>\n",
              "      <td>0</td>\n",
              "      <td>1</td>\n",
              "      <td>0</td>\n",
              "    </tr>\n",
              "    <tr>\n",
              "      <th>19</th>\n",
              "      <td>168.Kentucky_Warbler</td>\n",
              "      <td>0</td>\n",
              "      <td>0</td>\n",
              "      <td>0</td>\n",
              "      <td>0</td>\n",
              "      <td>0</td>\n",
              "      <td>0</td>\n",
              "      <td>0</td>\n",
              "      <td>0</td>\n",
              "      <td>0</td>\n",
              "      <td>...</td>\n",
              "      <td>0</td>\n",
              "      <td>0</td>\n",
              "      <td>0</td>\n",
              "      <td>0</td>\n",
              "      <td>0</td>\n",
              "      <td>0</td>\n",
              "      <td>0</td>\n",
              "      <td>0</td>\n",
              "      <td>0</td>\n",
              "      <td>1</td>\n",
              "    </tr>\n",
              "  </tbody>\n",
              "</table>\n",
              "<p>20 rows × 21 columns</p>\n",
              "</div>\n",
              "      <button class=\"colab-df-convert\" onclick=\"convertToInteractive('df-b4a02200-61d6-4fc7-a7d6-cecd64b640ba')\"\n",
              "              title=\"Convert this dataframe to an interactive table.\"\n",
              "              style=\"display:none;\">\n",
              "        \n",
              "  <svg xmlns=\"http://www.w3.org/2000/svg\" height=\"24px\"viewBox=\"0 0 24 24\"\n",
              "       width=\"24px\">\n",
              "    <path d=\"M0 0h24v24H0V0z\" fill=\"none\"/>\n",
              "    <path d=\"M18.56 5.44l.94 2.06.94-2.06 2.06-.94-2.06-.94-.94-2.06-.94 2.06-2.06.94zm-11 1L8.5 8.5l.94-2.06 2.06-.94-2.06-.94L8.5 2.5l-.94 2.06-2.06.94zm10 10l.94 2.06.94-2.06 2.06-.94-2.06-.94-.94-2.06-.94 2.06-2.06.94z\"/><path d=\"M17.41 7.96l-1.37-1.37c-.4-.4-.92-.59-1.43-.59-.52 0-1.04.2-1.43.59L10.3 9.45l-7.72 7.72c-.78.78-.78 2.05 0 2.83L4 21.41c.39.39.9.59 1.41.59.51 0 1.02-.2 1.41-.59l7.78-7.78 2.81-2.81c.8-.78.8-2.07 0-2.86zM5.41 20L4 18.59l7.72-7.72 1.47 1.35L5.41 20z\"/>\n",
              "  </svg>\n",
              "      </button>\n",
              "      \n",
              "  <style>\n",
              "    .colab-df-container {\n",
              "      display:flex;\n",
              "      flex-wrap:wrap;\n",
              "      gap: 12px;\n",
              "    }\n",
              "\n",
              "    .colab-df-convert {\n",
              "      background-color: #E8F0FE;\n",
              "      border: none;\n",
              "      border-radius: 50%;\n",
              "      cursor: pointer;\n",
              "      display: none;\n",
              "      fill: #1967D2;\n",
              "      height: 32px;\n",
              "      padding: 0 0 0 0;\n",
              "      width: 32px;\n",
              "    }\n",
              "\n",
              "    .colab-df-convert:hover {\n",
              "      background-color: #E2EBFA;\n",
              "      box-shadow: 0px 1px 2px rgba(60, 64, 67, 0.3), 0px 1px 3px 1px rgba(60, 64, 67, 0.15);\n",
              "      fill: #174EA6;\n",
              "    }\n",
              "\n",
              "    [theme=dark] .colab-df-convert {\n",
              "      background-color: #3B4455;\n",
              "      fill: #D2E3FC;\n",
              "    }\n",
              "\n",
              "    [theme=dark] .colab-df-convert:hover {\n",
              "      background-color: #434B5C;\n",
              "      box-shadow: 0px 1px 3px 1px rgba(0, 0, 0, 0.15);\n",
              "      filter: drop-shadow(0px 1px 2px rgba(0, 0, 0, 0.3));\n",
              "      fill: #FFFFFF;\n",
              "    }\n",
              "  </style>\n",
              "\n",
              "      <script>\n",
              "        const buttonEl =\n",
              "          document.querySelector('#df-b4a02200-61d6-4fc7-a7d6-cecd64b640ba button.colab-df-convert');\n",
              "        buttonEl.style.display =\n",
              "          google.colab.kernel.accessAllowed ? 'block' : 'none';\n",
              "\n",
              "        async function convertToInteractive(key) {\n",
              "          const element = document.querySelector('#df-b4a02200-61d6-4fc7-a7d6-cecd64b640ba');\n",
              "          const dataTable =\n",
              "            await google.colab.kernel.invokeFunction('convertToInteractive',\n",
              "                                                     [key], {});\n",
              "          if (!dataTable) return;\n",
              "\n",
              "          const docLinkHtml = 'Like what you see? Visit the ' +\n",
              "            '<a target=\"_blank\" href=https://colab.research.google.com/notebooks/data_table.ipynb>data table notebook</a>'\n",
              "            + ' to learn more about interactive tables.';\n",
              "          element.innerHTML = '';\n",
              "          dataTable['output_type'] = 'display_data';\n",
              "          await google.colab.output.renderOutput(dataTable, element);\n",
              "          const docLink = document.createElement('div');\n",
              "          docLink.innerHTML = docLinkHtml;\n",
              "          element.appendChild(docLink);\n",
              "        }\n",
              "      </script>\n",
              "    </div>\n",
              "  </div>\n",
              "  "
            ]
          },
          "metadata": {},
          "execution_count": 6
        }
      ]
    },
    {
      "cell_type": "markdown",
      "source": [
        "Here I use dummies to implement OneHotEncoding."
      ],
      "metadata": {
        "id": "QjLuR34ronMI"
      }
    },
    {
      "cell_type": "markdown",
      "source": [
        "### ii. Randomly select [0.7ni] images from each folder as your training set, [0.15ni] as validation set, and the rest as your test set, where ni is the number of images in folder i and [x] is the ceiling of x"
      ],
      "metadata": {
        "id": "X1bEjo8Ao93k"
      }
    },
    {
      "cell_type": "code",
      "source": [
        "root = '/content/drive/MyDrive/PDF_Project/Data/images'"
      ],
      "metadata": {
        "id": "aVvtie0robjN"
      },
      "execution_count": null,
      "outputs": []
    },
    {
      "cell_type": "code",
      "source": [
        "os.listdir(root)"
      ],
      "metadata": {
        "colab": {
          "base_uri": "https://localhost:8080/"
        },
        "id": "DMcPYc7cqRLu",
        "outputId": "76a7aba9-f80d-42b7-d21f-344aa96e49ee"
      },
      "execution_count": null,
      "outputs": [
        {
          "output_type": "execute_result",
          "data": {
            "text/plain": [
              "['086.Pacific_Loon',\n",
              " '141.Artic_Tern',\n",
              " '168.Kentucky_Warbler',\n",
              " '099.Ovenbird',\n",
              " '127.Savannah_Sparrow',\n",
              " '104.American_Pipit',\n",
              " '149.Brown_Thrasher',\n",
              " '156.White_eyed_Vireo',\n",
              " '135.Bank_Swallow',\n",
              " '082.Ringed_Kingfisher',\n",
              " '081.Pied_Kingfisher',\n",
              " '076.Dark_eyed_Junco',\n",
              " '072.Pomarine_Jaeger',\n",
              " '067.Anna_Hummingbird',\n",
              " '013.Bobolink',\n",
              " '040.Olive_sided_Flycatcher',\n",
              " '005.Crested_Auklet',\n",
              " '015.Lazuli_Bunting',\n",
              " '041.Scissor_tailed_Flycatcher',\n",
              " '023.Brandt_Cormorant']"
            ]
          },
          "metadata": {},
          "execution_count": 8
        }
      ]
    },
    {
      "cell_type": "code",
      "source": [
        "splitfolders.ratio('/content/drive/MyDrive/PDF_Project/Data/images', output='output', ratio=(.7, 0.15,0.15))  # Here, I split the data into three folders, with each folders have that number of images of each class."
      ],
      "metadata": {
        "colab": {
          "base_uri": "https://localhost:8080/"
        },
        "id": "Wkr4isLhZSqU",
        "outputId": "8cf92e38-c664-4b52-993a-1da9e84ebd21"
      },
      "execution_count": null,
      "outputs": [
        {
          "output_type": "stream",
          "name": "stderr",
          "text": [
            "Copying files: 1176 files [04:09,  4.72 files/s]\n"
          ]
        }
      ]
    },
    {
      "cell_type": "markdown",
      "source": [
        "Here, I splited the folder into train, test, and validation based on proportion given, for each class."
      ],
      "metadata": {
        "id": "5XWb4dxyEe8f"
      }
    },
    {
      "cell_type": "markdown",
      "source": [
        "### iii. In order for all the images to have the same size, zero-pad or resize the images in your dataset. This can be done using various tools, including OpenCV."
      ],
      "metadata": {
        "id": "yEsjmgO7EpcQ"
      }
    },
    {
      "cell_type": "code",
      "source": [
        "train_data = keras.utils.image_dataset_from_directory('/content/output/train', batch_size=5, image_size=(180,180), label_mode='categorical', shuffle=False)  # Here, I loaded the training data using keras data loader. "
      ],
      "metadata": {
        "colab": {
          "base_uri": "https://localhost:8080/"
        },
        "id": "UaREWUIAXsJc",
        "outputId": "7edb5a78-dfdb-492e-8486-a221b7a40b03"
      },
      "execution_count": null,
      "outputs": [
        {
          "output_type": "stream",
          "name": "stdout",
          "text": [
            "Found 820 files belonging to 20 classes.\n"
          ]
        }
      ]
    },
    {
      "cell_type": "code",
      "source": [
        "train_label = np.concatenate([y for x, y in train_data], axis=0)\n",
        "train_label"
      ],
      "metadata": {
        "colab": {
          "base_uri": "https://localhost:8080/"
        },
        "id": "XILrKC22YTQR",
        "outputId": "67f7fecb-1bc3-47d7-9435-0ec5d418ea28"
      },
      "execution_count": null,
      "outputs": [
        {
          "output_type": "execute_result",
          "data": {
            "text/plain": [
              "array([[1., 0., 0., ..., 0., 0., 0.],\n",
              "       [1., 0., 0., ..., 0., 0., 0.],\n",
              "       [1., 0., 0., ..., 0., 0., 0.],\n",
              "       ...,\n",
              "       [0., 0., 0., ..., 0., 0., 1.],\n",
              "       [0., 0., 0., ..., 0., 0., 1.],\n",
              "       [0., 0., 0., ..., 0., 0., 1.]], dtype=float32)"
            ]
          },
          "metadata": {},
          "execution_count": 43
        }
      ]
    },
    {
      "cell_type": "code",
      "source": [
        "len(train_label)\n"
      ],
      "metadata": {
        "colab": {
          "base_uri": "https://localhost:8080/"
        },
        "id": "V46n0xbhZXNG",
        "outputId": "2b622a36-0ba5-4141-a99a-c6b504011382"
      },
      "execution_count": null,
      "outputs": [
        {
          "output_type": "execute_result",
          "data": {
            "text/plain": [
              "820"
            ]
          },
          "metadata": {},
          "execution_count": 31
        }
      ]
    },
    {
      "cell_type": "code",
      "source": [
        "train_feature = np.concatenate([x for x, y in train_data], axis=0)\n",
        "train_feature"
      ],
      "metadata": {
        "colab": {
          "base_uri": "https://localhost:8080/"
        },
        "id": "zejD3RcZZjYl",
        "outputId": "4fb0dbf2-f761-4a0a-da72-4b9e0314bcab"
      },
      "execution_count": null,
      "outputs": [
        {
          "output_type": "execute_result",
          "data": {
            "text/plain": [
              "array([[[[145.76668 , 153.76668 , 138.76668 ],\n",
              "         [146.13333 , 154.13333 , 139.13333 ],\n",
              "         [145.83333 , 153.83333 , 138.83333 ],\n",
              "         ...,\n",
              "         [ 79.166664,  81.166664,  70.166664],\n",
              "         [ 81.53335 ,  81.53335 ,  71.53335 ],\n",
              "         [ 80.13332 ,  80.13332 ,  70.13332 ]],\n",
              "\n",
              "        [[151.8     , 159.8     , 144.8     ],\n",
              "         [148.1     , 156.1     , 141.1     ],\n",
              "         [151.      , 159.      , 144.      ],\n",
              "         ...,\n",
              "         [ 80.      ,  82.      ,  71.      ],\n",
              "         [ 79.899994,  81.899994,  70.899994],\n",
              "         [ 80.5     ,  82.5     ,  71.5     ]],\n",
              "\n",
              "        [[150.73332 , 158.73332 , 143.73332 ],\n",
              "         [151.53333 , 159.53333 , 144.53333 ],\n",
              "         [147.66667 , 155.66667 , 140.66667 ],\n",
              "         ...,\n",
              "         [ 83.5     ,  85.5     ,  74.5     ],\n",
              "         [ 79.33334 ,  81.33334 ,  70.33334 ],\n",
              "         [ 77.666664,  79.666664,  68.666664]],\n",
              "\n",
              "        ...,\n",
              "\n",
              "        [[186.33333 , 194.33333 , 181.33333 ],\n",
              "         [185.66667 , 193.66667 , 180.66667 ],\n",
              "         [185.33331 , 193.33331 , 182.33331 ],\n",
              "         ...,\n",
              "         [127.49997 , 139.49997 , 139.49997 ],\n",
              "         [124.899994, 135.9     , 137.9     ],\n",
              "         [121.799965, 132.79997 , 134.79997 ]],\n",
              "\n",
              "        [[181.5     , 189.5     , 176.5     ],\n",
              "         [184.4     , 192.4     , 179.4     ],\n",
              "         [185.      , 193.      , 180.      ],\n",
              "         ...,\n",
              "         [127.      , 139.      , 139.      ],\n",
              "         [119.70001 , 131.20001 , 132.20001 ],\n",
              "         [118.5     , 130.      , 131.      ]],\n",
              "\n",
              "        [[177.66653 , 185.66653 , 172.66653 ],\n",
              "         [179.53333 , 187.53333 , 174.53333 ],\n",
              "         [178.16669 , 186.16669 , 173.16669 ],\n",
              "         ...,\n",
              "         [123.666626, 133.66663 , 134.66663 ],\n",
              "         [123.03331 , 133.03331 , 134.03331 ],\n",
              "         [120.733246, 130.73325 , 131.73325 ]]],\n",
              "\n",
              "\n",
              "       [[[ 55.49537 ,  58.259254,  57.259254],\n",
              "         [ 66.69444 ,  67.4861  ,  69.02777 ],\n",
              "         [ 72.61574 ,  73.074066,  75.074066],\n",
              "         ...,\n",
              "         [ 45.120564,  42.037228,  43.953896],\n",
              "         [ 74.13994 ,  71.723206,  74.69551 ],\n",
              "         [ 46.2465  ,  46.2465  ,  46.2465  ]],\n",
              "\n",
              "        [[ 97.74999 ,  93.87499 ,  97.49999 ],\n",
              "         [ 93.75    ,  89.875   ,  93.5     ],\n",
              "         [ 98.47222 ,  94.59722 ,  99.47222 ],\n",
              "         ...,\n",
              "         [109.8472  , 102.9722  ,  99.9722  ],\n",
              "         [ 47.624313,  43.082596,  40.95761 ],\n",
              "         [120.22522 , 119.60022 , 117.60022 ]],\n",
              "\n",
              "        [[ 98.21758 ,  93.21758 ,  98.63425 ],\n",
              "         [101.55555 ,  96.55555 , 102.36111 ],\n",
              "         [101.69444 ,  96.111115, 102.40278 ],\n",
              "         ...,\n",
              "         [132.6066  , 125.02327 , 118.68529 ],\n",
              "         [ 77.583855,  70.91711 ,  68.11156 ],\n",
              "         [ 98.9467  ,  97.9467  ,  94.53004 ]],\n",
              "\n",
              "        ...,\n",
              "\n",
              "        [[100.004585,  97.5879  , 104.26384 ],\n",
              "         [ 94.63877 ,  93.4582  , 103.4582  ],\n",
              "         [ 85.499985,  86.52774 ,  94.36104 ],\n",
              "         ...,\n",
              "         [171.13919 , 170.13919 , 186.13919 ],\n",
              "         [177.8321  , 176.59601 , 189.30443 ],\n",
              "         [225.86676 , 224.86676 , 230.34825 ]],\n",
              "\n",
              "        [[101.44444 , 102.888885, 103.47222 ],\n",
              "         [ 98.083336,  99.791664, 109.33333 ],\n",
              "         [ 91.43056 ,  94.68056 , 106.611115],\n",
              "         ...,\n",
              "         [176.72253 , 175.72253 , 190.97253 ],\n",
              "         [207.91617 , 207.58286 , 217.74959 ],\n",
              "         [215.76959 , 214.76959 , 220.76959 ]],\n",
              "\n",
              "        [[ 72.25147 ,  73.33485 ,  72.67279 ],\n",
              "         [ 72.71039 ,  73.252075,  76.39104 ],\n",
              "         [ 62.881092,  64.50615 ,  69.214584],\n",
              "         ...,\n",
              "         [111.44713 , 111.90544 , 119.61388 ],\n",
              "         [148.60178 , 148.574   , 152.12947 ],\n",
              "         [129.26077 , 128.31169 , 133.26077 ]]],\n",
              "\n",
              "\n",
              "       [[[175.22223 , 193.22223 , 213.22223 ],\n",
              "         [174.65556 , 193.50557 , 213.22223 ],\n",
              "         [173.08334 , 194.36111 , 213.22223 ],\n",
              "         ...,\n",
              "         [177.97223 , 196.97223 , 213.97223 ],\n",
              "         [180.      , 199.      , 216.      ],\n",
              "         [178.49138 , 197.49138 , 214.49138 ]],\n",
              "\n",
              "        [[173.      , 194.      , 213.      ],\n",
              "         [172.23889 , 194.76111 , 213.      ],\n",
              "         [171.81482 , 195.09259 , 213.      ],\n",
              "         ...,\n",
              "         [178.9537  , 197.9537  , 214.9537  ],\n",
              "         [179.      , 198.      , 215.      ],\n",
              "         [179.66667 , 198.66667 , 215.66667 ]],\n",
              "\n",
              "        [[171.11111 , 194.11111 , 212.11111 ],\n",
              "         [170.54445 , 194.39445 , 212.11111 ],\n",
              "         [169.04938 , 195.11111 , 212.11111 ],\n",
              "         ...,\n",
              "         [176.69444 , 195.69444 , 212.69444 ],\n",
              "         [176.42963 , 195.42963 , 212.42963 ],\n",
              "         [178.12776 , 197.12776 , 214.12776 ]],\n",
              "\n",
              "        ...,\n",
              "\n",
              "        [[160.53514 , 124.10736 ,  25.829586],\n",
              "         [171.05554 , 131.59996 ,  18.038794],\n",
              "         [175.39206 , 132.22842 ,  16.283913],\n",
              "         ...,\n",
              "         [ 80.73876 ,  95.92688 , 106.478874],\n",
              "         [ 41.93213 ,  51.009853,  66.06527 ],\n",
              "         [151.19768 , 166.76105 , 184.96075 ]],\n",
              "\n",
              "        [[159.14255 , 123.90364 ,  22.527798],\n",
              "         [165.27777 , 129.61671 ,  22.705547],\n",
              "         [164.85205 , 124.05572 ,  23.472132],\n",
              "         ...,\n",
              "         [141.78687 , 170.9537  , 193.12024 ],\n",
              "         [143.82216 , 170.47775 , 196.3666  ],\n",
              "         [141.61658 , 169.4314  , 197.33156 ]],\n",
              "\n",
              "        [[163.91722 , 126.233925,  22.54013 ],\n",
              "         [164.63705 , 126.54263 ,  17.918608],\n",
              "         [162.45987 , 120.30556 ,  22.277885],\n",
              "         ...,\n",
              "         [147.86111 , 171.86111 , 197.86111 ],\n",
              "         [148.15002 , 172.15002 , 198.15002 ],\n",
              "         [146.39447 , 170.39447 , 196.39447 ]]],\n",
              "\n",
              "\n",
              "       ...,\n",
              "\n",
              "\n",
              "       [[[155.41667 , 148.08333 , 120.416664],\n",
              "         [175.625   , 165.625   , 138.625   ],\n",
              "         [151.38057 , 147.92223 , 120.07501 ],\n",
              "         ...,\n",
              "         [ 50.394627,  39.352936,  25.922415],\n",
              "         [123.275314, 105.99197 ,  92.57541 ],\n",
              "         [ 82.23323 ,  65.23323 ,  48.383232]],\n",
              "\n",
              "        [[137.375   , 130.04167 , 102.31388 ],\n",
              "         [147.11667 , 137.11667 , 110.666664],\n",
              "         [127.252785, 123.475006,  96.341675],\n",
              "         ...,\n",
              "         [ 54.802643,  43.538784,  33.161026],\n",
              "         [109.841064,  91.20775 ,  74.02441 ],\n",
              "         [ 70.18889 ,  51.188892,  34.188892]],\n",
              "\n",
              "        [[121.04167 , 113.708336,  86.04167 ],\n",
              "         [129.33333 , 119.333336,  94.333336],\n",
              "         [114.97222 , 111.80556 ,  82.06945 ],\n",
              "         ...,\n",
              "         [ 61.66632 ,  49.569138,  40.66635 ],\n",
              "         [ 99.7072  ,  83.123886,  67.33222 ],\n",
              "         [ 84.91684 ,  67.66684 ,  51.79184 ]],\n",
              "\n",
              "        ...,\n",
              "\n",
              "        [[ 85.43056 ,  85.13889 ,  49.013885],\n",
              "         [113.25    , 111.166664,  73.416664],\n",
              "         [ 79.88889 ,  87.79167 ,  36.97222 ],\n",
              "         ...,\n",
              "         [189.18037 , 170.37483 , 138.44427 ],\n",
              "         [200.66693 , 177.50009 , 149.62517 ],\n",
              "         [207.7779  , 190.23624 , 160.4029  ]],\n",
              "\n",
              "        [[ 73.986145,  73.65282 ,  37.763924],\n",
              "         [ 87.491646,  84.76664 ,  48.941658],\n",
              "         [ 86.66398 ,  94.44176 ,  45.34732 ],\n",
              "         ...,\n",
              "         [161.26913 , 157.70255 , 120.655304],\n",
              "         [196.6749  , 175.13326 , 146.28325 ],\n",
              "         [205.02493 , 182.3999  , 153.84991 ]],\n",
              "\n",
              "        [[ 92.9084  ,  92.575066,  56.68618 ],\n",
              "         [ 93.29169 ,  90.29169 ,  55.291687],\n",
              "         [ 92.44713 , 100.2249  ,  53.558235],\n",
              "         ...,\n",
              "         [154.54976 , 151.2165  , 114.32759 ],\n",
              "         [193.51663 , 165.69989 , 139.08324 ],\n",
              "         [197.33324 , 171.33324 , 144.33324 ]]],\n",
              "\n",
              "\n",
              "       [[[ 77.19444 ,  84.19444 ,  76.19444 ],\n",
              "         [ 80.125   ,  87.125   ,  79.125   ],\n",
              "         [ 85.22068 ,  92.22068 ,  84.22068 ],\n",
              "         ...,\n",
              "         [ 62.152763,  64.820984,  58.484547],\n",
              "         [ 67.199036,  69.46757 ,  64.86564 ],\n",
              "         [ 67.35803 ,  68.35803 ,  70.5802  ]],\n",
              "\n",
              "        [[ 77.416664,  84.416664,  76.416664],\n",
              "         [ 77.763885,  84.763885,  76.763885],\n",
              "         [ 82.06944 ,  89.06944 ,  81.06944 ],\n",
              "         ...,\n",
              "         [ 62.67128 ,  63.67128 ,  56.203686],\n",
              "         [ 65.08335 ,  66.68054 ,  59.569412],\n",
              "         [ 64.50461 ,  66.48147 ,  64.14344 ]],\n",
              "\n",
              "        [[ 78.08488 ,  85.08488 ,  77.08488 ],\n",
              "         [ 75.65278 ,  82.65278 ,  74.65278 ],\n",
              "         [ 80.875   ,  87.875   ,  79.875   ],\n",
              "         ...,\n",
              "         [ 58.035492,  62.007717,  48.021606],\n",
              "         [ 57.060184,  60.050926,  50.38418 ],\n",
              "         [ 59.138863,  61.138863,  56.36103 ]],\n",
              "\n",
              "        ...,\n",
              "\n",
              "        [[125.78241 , 110.78241 , 117.53242 ],\n",
              "         [127.97686 , 111.97686 , 122.97223 ],\n",
              "         [119.85955 , 103.83178 , 115.94135 ],\n",
              "         ...,\n",
              "         [ 98.08331 , 106.5216  ,  54.645027],\n",
              "         [ 99.96754 , 105.981544,  60.96742 ],\n",
              "         [104.95834 , 105.95834 ,  72.18051 ]],\n",
              "\n",
              "        [[124.74994 , 110.37497 , 112.796234],\n",
              "         [125.12499 , 109.05554 , 118.541595],\n",
              "         [124.94446 , 107.0602  , 118.82871 ],\n",
              "         ...,\n",
              "         [ 93.37031 , 101.57865 ,  52.476826],\n",
              "         [ 96.1944  , 103.47226 ,  58.388752],\n",
              "         [ 98.59257 , 101.65743 ,  67.19903 ]],\n",
              "\n",
              "        [[116.08334 , 104.08334 , 106.08334 ],\n",
              "         [123.53241 , 106.865746, 111.865746],\n",
              "         [124.59723 , 107.59723 , 117.59723 ],\n",
              "         ...,\n",
              "         [ 88.70831 ,  97.70831 ,  53.513855],\n",
              "         [ 92.1944  ,  99.7269  ,  55.999878],\n",
              "         [ 95.2392  ,  96.01703 ,  62.350285]]],\n",
              "\n",
              "\n",
              "       [[[121.888885, 137.88889 ,  74.888885],\n",
              "         [122.666664, 138.66667 ,  75.666664],\n",
              "         [123.      , 139.      ,  76.      ],\n",
              "         ...,\n",
              "         [140.      , 163.      ,  85.      ],\n",
              "         [139.66669 , 162.66669 ,  83.333435],\n",
              "         [129.89233 , 147.22583 ,  99.44702 ]],\n",
              "\n",
              "        [[121.888885, 137.88889 ,  74.888885],\n",
              "         [122.666664, 138.66667 ,  75.666664],\n",
              "         [123.      , 139.      ,  76.      ],\n",
              "         ...,\n",
              "         [140.      , 163.      ,  85.      ],\n",
              "         [139.66669 , 162.66669 ,  83.333435],\n",
              "         [129.89233 , 147.22583 ,  99.44702 ]],\n",
              "\n",
              "        [[121.888885, 137.88889 ,  74.888885],\n",
              "         [122.666664, 138.66667 ,  75.666664],\n",
              "         [123.      , 139.      ,  76.      ],\n",
              "         ...,\n",
              "         [140.      , 163.      ,  85.      ],\n",
              "         [139.66669 , 162.66669 ,  83.333435],\n",
              "         [129.89233 , 147.22583 ,  99.44702 ]],\n",
              "\n",
              "        ...,\n",
              "\n",
              "        [[129.97223 , 147.02777 ,  84.43057 ],\n",
              "         [129.97223 , 147.02777 ,  84.43057 ],\n",
              "         [129.97223 , 147.02777 ,  84.43057 ],\n",
              "         ...,\n",
              "         [139.05554 , 166.5972  ,  68.861145],\n",
              "         [140.87488 , 168.07396 ,  65.39375 ],\n",
              "         [135.2581  , 153.77223 ,  92.39883 ]],\n",
              "\n",
              "        [[129.525   , 148.01666 ,  84.04999 ],\n",
              "         [129.525   , 148.01666 ,  84.04999 ],\n",
              "         [129.525   , 148.01666 ,  84.04999 ],\n",
              "         ...,\n",
              "         [141.55832 , 166.09998 ,  70.76672 ],\n",
              "         [141.18613 , 165.21393 ,  68.539055],\n",
              "         [132.87753 , 151.4259  ,  88.357796]],\n",
              "\n",
              "        [[ 75.661194,  90.65564 ,  51.71118 ],\n",
              "         [ 75.661194,  90.65564 ,  51.71118 ],\n",
              "         [ 75.661194,  90.65564 ,  51.71118 ],\n",
              "         ...,\n",
              "         [ 84.11954 ,  99.08621 ,  44.286163],\n",
              "         [ 82.46223 ,  98.93714 ,  45.932365],\n",
              "         [ 86.60106 , 103.372345,  57.67827 ]]]], dtype=float32)"
            ]
          },
          "metadata": {},
          "execution_count": 44
        }
      ]
    },
    {
      "cell_type": "markdown",
      "source": [
        "Here, I resized the image files to (180,180) using keras.utils.image_dataset_from_directory. This process will resize the images after reading from disk. So, all the images will be resized to (180, 180). Also, I got the training features and labels for future model training."
      ],
      "metadata": {
        "id": "NZa64fqetExB"
      }
    },
    {
      "cell_type": "markdown",
      "source": [
        "## (c) Transfer Learning3\n",
        "### i. When dealing with classification of relatively small image datasets, deep net\u0002works may not perform very well because of not having enough data to train them. In such cases, one usually uses transfer learning, which uses deep learning models that are trained on very large datasets such as ImageNet as feature extractors. The idea is that such deep networks have learned to extract meaningful features from an image using their layers, and those features can be used in learning other tasks. In order to do that, usually the last layer or the last few layers of the pre-trained network are removed, and the response of the layer before the removed layers to the images in the new dataset is used as a feature vector to train one more multiple replacement lay\u0002ers. The dataset in this task has only around 50-60 images per class. Given that we have 20 classes, training a deep network with such a small dataset may not yield desirable results. In this project, you will use pre-trained mod\u0002els EfficientNetB0 and VGG16. For both pre-trained networks, you will only train the last fully connected layer, and will freeze all layers before them (i.e. we do not change their parameters during training) and use the outputs of the penultimate layer in the original pre-trained model as the features extracted from each image.\n"
      ],
      "metadata": {
        "id": "PFHmbLkMFbQ4"
      }
    },
    {
      "cell_type": "code",
      "source": [
        "# keras.applications.efficientnet.EfficientNetB0(include_top=True, weights='imagenet', input_tensor=None, input_shape=None, pooling=None, classes=1000, classifier_activation='softmax', **kwargs)\n",
        "# tf.keras.applications.vgg16.VGG16( include_top=True, weights='imagenet', input_tensor=None, input_shape=None, pooling=None, classes=1000, classifier_activation='softmax')"
      ],
      "metadata": {
        "id": "Kvryvpy8sT_A"
      },
      "execution_count": null,
      "outputs": []
    },
    {
      "cell_type": "markdown",
      "source": [
        "These two pre-trained networks will help us generate features since our feature space is small."
      ],
      "metadata": {
        "id": "sDqLve1BKJfe"
      }
    },
    {
      "cell_type": "markdown",
      "source": [
        "### ii. To perform empirical regularization, crop, randomly zoo, rotate, flip, contrast, and translate images in your training set for image augmentation. You can use various tools to do this, including OpenCV."
      ],
      "metadata": {
        "id": "q0uTnUK7KfQI"
      }
    },
    {
      "cell_type": "code",
      "source": [
        "l1 = keras.layers.Rescaling(scale=1./255)\n",
        "l2 = keras.layers.RandomCrop(180, 180)\n",
        "l3 = keras.layers.RandomZoom(height_factor=(-0.3, 0.3), width_factor=(-0.3, 0.3))\n",
        "l4 = keras.layers.RandomRotation(factor=0.2)\n",
        "l5 = keras.layers.RandomFlip()\n",
        "l6 = keras.layers.RandomContrast(factor=0.2) \n",
        "l7 = keras.layers.RandomTranslation(height_factor=0.2, width_factor=0.2)"
      ],
      "metadata": {
        "id": "R3lqJ_zCKd8D"
      },
      "execution_count": null,
      "outputs": []
    },
    {
      "cell_type": "code",
      "source": [
        "dt1 = keras.layers.Normalization()(train_feature)\n",
        "dt1 = tfds.as_numpy(dt1)"
      ],
      "metadata": {
        "id": "MwBVkLO0rGF9"
      },
      "execution_count": null,
      "outputs": []
    },
    {
      "cell_type": "code",
      "source": [
        "dt = train_feature  # Initialize the data. I plan to use numpy to concat seven image datasets to get my new training set.\n",
        "layers = [l2,l3,l4,l5,l6,l7]\n",
        "for i in range(6):\n",
        "  layer = layers[i]\n",
        "  data = layer(train_feature)\n",
        "  data = tfds.as_numpy(data)\n",
        "  dt = np.concatenate([dt, data])\n",
        "len(dt)"
      ],
      "metadata": {
        "colab": {
          "base_uri": "https://localhost:8080/"
        },
        "id": "-kGNkQe3bRGk",
        "outputId": "8fd8e94d-e8e2-4241-a5c8-dacfdb6aedfd"
      },
      "execution_count": null,
      "outputs": [
        {
          "output_type": "execute_result",
          "data": {
            "text/plain": [
              "5740"
            ]
          },
          "metadata": {},
          "execution_count": 34
        }
      ]
    },
    {
      "cell_type": "code",
      "source": [
        "dt.shape"
      ],
      "metadata": {
        "colab": {
          "base_uri": "https://localhost:8080/"
        },
        "id": "cAb1E9VTJwtc",
        "outputId": "151e05e1-5dd6-4a9d-aaa6-26a115b64ea5"
      },
      "execution_count": null,
      "outputs": [
        {
          "output_type": "execute_result",
          "data": {
            "text/plain": [
              "(5740, 180, 180, 3)"
            ]
          },
          "metadata": {},
          "execution_count": 17
        }
      ]
    },
    {
      "cell_type": "code",
      "source": [
        "label = train_label\n",
        "for i in range(6):\n",
        "  label = np.concatenate([label, train_label])\n",
        "len(label)"
      ],
      "metadata": {
        "colab": {
          "base_uri": "https://localhost:8080/"
        },
        "id": "KVTFiyByjkQo",
        "outputId": "78436377-6e3b-4d6b-b934-90e722d7f3ab"
      },
      "execution_count": null,
      "outputs": [
        {
          "output_type": "execute_result",
          "data": {
            "text/plain": [
              "5740"
            ]
          },
          "metadata": {},
          "execution_count": 35
        }
      ]
    },
    {
      "cell_type": "markdown",
      "source": [
        "As above, I used keras's preprocessing methods including regularization, crop, rotate, flip, contrast, zoom, and translate the images. I stored the augmented data and their label into numpy array, and it has total 5740 files after augmentation."
      ],
      "metadata": {
        "id": "xG-hnHWviJ09"
      }
    },
    {
      "cell_type": "markdown",
      "source": [
        "### iii. Use ReLU activation functions in the last layer and a softmax layer, along with batch normalization 4 and a dropout rate of 20% as well as ADAM optimizer. Use multinomial cross entropy loss. You can try any batch size, but a batch size of 5 seems reasonable\n"
      ],
      "metadata": {
        "id": "jyBsViYpidhY"
      }
    },
    {
      "cell_type": "code",
      "source": [
        "model = keras.Sequential([\n",
        "    keras.layers.BatchNormalization(),\n",
        "    keras.layers.Dropout(0.2),\n",
        "    keras.layers.ReLU(),\n",
        "    keras.layers.Softmax()\n",
        "]\n",
        ")"
      ],
      "metadata": {
        "id": "Uhb9VWDJicRX"
      },
      "execution_count": null,
      "outputs": []
    },
    {
      "cell_type": "code",
      "source": [
        "adm = keras.optimizers.Adam()"
      ],
      "metadata": {
        "id": "aA2R3lzWiAAB"
      },
      "execution_count": null,
      "outputs": []
    },
    {
      "cell_type": "code",
      "source": [
        "model.compile(optimizer=adm, loss='categorical_crossentropy', metrics=['accuracy'])"
      ],
      "metadata": {
        "id": "0n8gwKZv2Gku"
      },
      "execution_count": null,
      "outputs": []
    },
    {
      "cell_type": "markdown",
      "source": [
        "As above I updated the model with dropout rate 20%, ReLU, softmax, and BatchRegularization. I complied the model with optimizer ADAM, loss categorical_crossentropy"
      ],
      "metadata": {
        "id": "-wb999kqAG2N"
      }
    },
    {
      "cell_type": "markdown",
      "source": [
        "### iv. Train the networks (EfficientNetB0 and VGG16) for at least 50 epochs (preferably 100 epochs) and perform early stopping using the validation set. Keep the network parameters that have the lowest validation error. Plot the training and validation errors vs. epochs."
      ],
      "metadata": {
        "id": "iUkeaSdnAhcY"
      }
    },
    {
      "cell_type": "markdown",
      "source": [
        "### Efficient Net"
      ],
      "metadata": {
        "id": "aUeIlhHivogn"
      }
    },
    {
      "cell_type": "code",
      "source": [
        "aug_model= keras.Sequential([\n",
        "    keras.layers.RandomCrop(180, 180),\n",
        "    keras.layers.RandomZoom(height_factor=(-0.1, 0.1), width_factor=(-0.1, 0.1)),\n",
        "    keras.layers.RandomRotation(factor=0.15),\n",
        "    keras.layers.RandomFlip(),\n",
        "    keras.layers.RandomContrast(factor=0.1),\n",
        "    keras.layers.RandomTranslation(height_factor=0.1, width_factor=0.1)\n",
        "])"
      ],
      "metadata": {
        "id": "0UvWKB3iB_WT"
      },
      "execution_count": null,
      "outputs": []
    },
    {
      "cell_type": "code",
      "source": [
        "val_data = keras.utils.image_dataset_from_directory('/content/output/val', batch_size=5, image_size=(180,180), label_mode='categorical', shuffle=False)"
      ],
      "metadata": {
        "colab": {
          "base_uri": "https://localhost:8080/"
        },
        "id": "C__qLoWLFkY6",
        "outputId": "a7633cc5-892c-4778-d1b8-c7c5a7b71000"
      },
      "execution_count": null,
      "outputs": [
        {
          "output_type": "stream",
          "name": "stdout",
          "text": [
            "Found 171 files belonging to 20 classes.\n"
          ]
        }
      ]
    },
    {
      "cell_type": "code",
      "source": [
        "val_x, val_y = np.concatenate([x for x, y in val_data]), np.concatenate([y for x, y in val_data])"
      ],
      "metadata": {
        "id": "qDKMXwfTJOgL"
      },
      "execution_count": null,
      "outputs": []
    },
    {
      "cell_type": "code",
      "source": [
        "label.shape"
      ],
      "metadata": {
        "colab": {
          "base_uri": "https://localhost:8080/"
        },
        "id": "bsEhZmBsKaF8",
        "outputId": "6a086e6f-34aa-4708-9d61-085b49e82144"
      },
      "execution_count": null,
      "outputs": [
        {
          "output_type": "execute_result",
          "data": {
            "text/plain": [
              "(5740, 20)"
            ]
          },
          "metadata": {},
          "execution_count": 24
        }
      ]
    },
    {
      "cell_type": "code",
      "source": [
        "# Build model with top layer replaced\n",
        "inputs = keras.layers.Input(shape=(180, 180, 3))\n",
        "x = aug_model(inputs)\n",
        "model_eff = keras.applications.EfficientNetB0(include_top=False, input_tensor=x, weights='imagenet')\n",
        "model_eff.trainable = False\n",
        "x = keras.layers.GlobalMaxPooling2D()(model_eff.output)\n",
        "x = keras.layers.BatchNormalization()(x)\n",
        "x = keras.layers.ReLU()(x)\n",
        "x = keras.layers.Dropout(0.2)(x)\n",
        "\n",
        "# Compile model\n",
        "outputs = keras.layers.Dense(units=20, activation='softmax')(x)\n",
        "model_eff = keras.Model(inputs, outputs)\n",
        "model_eff.compile(optimizer=adm, loss='CategoricalCrossentropy', metrics=['accuracy'])\n",
        "\n",
        "# Train model with early stop\n",
        "callback = keras.callbacks.EarlyStopping(monitor='val_loss', patience=20, restore_best_weights=True)\n",
        "model_eff.fit(train_feature, train_label, epochs=100, callbacks=[callback, PlotLossesKeras()], validation_data=(val_x, val_y))"
      ],
      "metadata": {
        "id": "wNH1G_EgAgqH",
        "colab": {
          "base_uri": "https://localhost:8080/",
          "height": 729
        },
        "outputId": "f294bdd5-1314-4697-88db-64e96b0d6bc4"
      },
      "execution_count": null,
      "outputs": [
        {
          "output_type": "display_data",
          "data": {
            "text/plain": [
              "<Figure size 864x576 with 2 Axes>"
            ],
            "image/png": "[encoded data removed]"
          },
          "metadata": {
            "needs_background": "light"
          }
        },
        {
          "output_type": "stream",
          "name": "stdout",
          "text": [
            "accuracy\n",
            "\ttraining         \t (min:    0.450, max:    0.956, cur:    0.949)\n",
            "\tvalidation       \t (min:    0.725, max:    0.901, cur:    0.895)\n",
            "Loss\n",
            "\ttraining         \t (min:    0.142, max:    2.003, cur:    0.156)\n",
            "\tvalidation       \t (min:    0.394, max:    1.763, cur:    0.463)\n",
            "\b\b\b\b\b\b\b\b\b\b\b\b\b\b\b\b\b\b\b\b\b\b\b\b\b\b\b\b\b\b\b\b\b\b\b\b\b\b\b\b\b\b\b\b\b\b\b\b\b\b\b\b\b\b\b\b\b\b\b\b\b\b\b\b\b\b\b\b\b\b\b\b\b\b\b\b\b\b\b\b\b\b\r26/26 [==============================] - 5s 212ms/step - loss: 0.1561 - accuracy: 0.9488 - val_loss: 0.4633 - val_accuracy: 0.8947\n"
          ]
        },
        {
          "output_type": "execute_result",
          "data": {
            "text/plain": [
              "<keras.callbacks.History at 0x7f4e6ec65040>"
            ]
          },
          "metadata": {},
          "execution_count": 47
        }
      ]
    },
    {
      "cell_type": "markdown",
      "source": [
        "### VGG16"
      ],
      "metadata": {
        "id": "Xix0w4AsLDOR"
      }
    },
    {
      "cell_type": "code",
      "source": [
        "# Build model with top layer replaced\n",
        "inputs = keras.layers.Input(shape=(180, 180, 3))\n",
        "x = aug_model(inputs)\n",
        "model_vgg = keras.applications.vgg16.VGG16(include_top=False, input_tensor=x, weights='imagenet')\n",
        "model_vgg.trainable = False\n",
        "x = keras.layers.GlobalMaxPooling2D()(model_vgg.output)\n",
        "x = keras.layers.BatchNormalization()(x)\n",
        "x = keras.layers.ReLU()(x)\n",
        "x = keras.layers.Dropout(0.2)(x)\n",
        "\n",
        "# Compile model\n",
        "outputs = keras.layers.Dense(units=20, activation='softmax')(x)\n",
        "model_vgg = keras.Model(inputs, outputs)\n",
        "model_vgg.compile(optimizer=adm, loss='CategoricalCrossentropy', metrics=['accuracy'])\n",
        "\n",
        "# Train model with early stop\n",
        "callback = keras.callbacks.EarlyStopping(monitor='val_loss', patience=20, restore_best_weights=True)\n",
        "model_vgg.fit(train_feature, train_label, epochs=100, callbacks=[callback, PlotLossesKeras()], validation_data=(val_x, val_y))"
      ],
      "metadata": {
        "id": "0R-lh-oA9TDa",
        "colab": {
          "base_uri": "https://localhost:8080/",
          "height": 729
        },
        "outputId": "92ff4957-f3e9-4733-8435-a77d9a764c9e"
      },
      "execution_count": null,
      "outputs": [
        {
          "output_type": "display_data",
          "data": {
            "text/plain": [
              "<Figure size 864x576 with 2 Axes>"
            ],
            "image/png": "[encoded data removed]"
          },
          "metadata": {
            "needs_background": "light"
          }
        },
        {
          "output_type": "stream",
          "name": "stdout",
          "text": [
            "accuracy\n",
            "\ttraining         \t (min:    0.133, max:    0.771, cur:    0.760)\n",
            "\tvalidation       \t (min:    0.439, max:    0.690, cur:    0.673)\n",
            "Loss\n",
            "\ttraining         \t (min:    0.731, max:    3.135, cur:    0.793)\n",
            "\tvalidation       \t (min:    1.276, max:    5.102, cur:    1.364)\n",
            "\b\b\b\b\b\b\b\b\b\b\b\b\b\b\b\b\b\b\b\b\b\b\b\b\b\b\b\b\b\b\b\b\b\b\b\b\b\b\b\b\b\b\b\b\b\b\b\b\b\b\b\b\b\b\b\b\b\b\b\b\b\b\b\b\b\b\b\b\b\b\b\b\b\b\b\b\b\b\b\b\b\b\r26/26 [==============================] - 6s 213ms/step - loss: 0.7935 - accuracy: 0.7598 - val_loss: 1.3639 - val_accuracy: 0.6725\n"
          ]
        },
        {
          "output_type": "execute_result",
          "data": {
            "text/plain": [
              "<keras.callbacks.History at 0x7f51570194c0>"
            ]
          },
          "metadata": {},
          "execution_count": 48
        }
      ]
    },
    {
      "cell_type": "markdown",
      "source": [
        "As above, I plot the train/validation accuracy and loss of each epoch. Finally EfficientNetB0 got a better performance."
      ],
      "metadata": {
        "id": "PswTQ1k4dlwQ"
      }
    },
    {
      "cell_type": "markdown",
      "source": [
        "### v. Report Precision, Recall, and F1 score for your model. Remember that this is a multi-class classification problem."
      ],
      "metadata": {
        "id": "MfzQzymyYTdd"
      }
    },
    {
      "cell_type": "code",
      "source": [
        "test_data = keras.utils.image_dataset_from_directory('/content/output/test', batch_size=5, image_size=(180,180), label_mode='categorical', shuffle=False)"
      ],
      "metadata": {
        "colab": {
          "base_uri": "https://localhost:8080/"
        },
        "id": "zeIBALP4YbJ0",
        "outputId": "1cf60654-671a-424b-a40c-3572c0c6bf6e"
      },
      "execution_count": null,
      "outputs": [
        {
          "output_type": "stream",
          "name": "stdout",
          "text": [
            "Found 185 files belonging to 20 classes.\n"
          ]
        }
      ]
    },
    {
      "cell_type": "code",
      "source": [
        "test_x, test_y = np.concatenate([x for x, y in test_data]), np.concatenate([y for x, y in test_data])"
      ],
      "metadata": {
        "id": "HNM7tWLZLh3b"
      },
      "execution_count": null,
      "outputs": []
    },
    {
      "cell_type": "code",
      "source": [
        "summary = {'accuracy score':[], 'precision':[], 'recall':[], 'f1 score':[]}"
      ],
      "metadata": {
        "id": "rjBw8dwMWcFH"
      },
      "execution_count": null,
      "outputs": []
    },
    {
      "cell_type": "code",
      "source": [
        "y_pred_eff = model_eff.predict(test_x)\n",
        "y_pred_vgg = model_vgg.predict(test_x)\n",
        "y_pred_eff = (y_pred_eff > 0.5) \n",
        "y_pred_vgg = (y_pred_vgg > 0.5) \n",
        "test_y = (test_y > 0.5)"
      ],
      "metadata": {
        "colab": {
          "base_uri": "https://localhost:8080/"
        },
        "id": "bLgXBMwnLvsl",
        "outputId": "c596db36-1b40-401a-9f11-c6df82acdd47"
      },
      "execution_count": null,
      "outputs": [
        {
          "output_type": "stream",
          "name": "stdout",
          "text": [
            "6/6 [==============================] - 0s 16ms/step\n",
            "6/6 [==============================] - 0s 20ms/step\n"
          ]
        }
      ]
    },
    {
      "cell_type": "code",
      "source": [
        "summary['accuracy score'].append(accuracy_score(test_y, y_pred_eff))\n",
        "summary['accuracy score'].append(accuracy_score(test_y, y_pred_vgg))\n",
        "\n",
        "summary['precision'].append(precision_score(test_y, y_pred_eff, average='micro'))\n",
        "summary['precision'].append(precision_score(test_y, y_pred_vgg, average='micro'))\n",
        "\n",
        "summary['recall'].append(recall_score(test_y, y_pred_eff, average='micro'))\n",
        "summary['recall'].append(recall_score(test_y, y_pred_vgg, average='micro'))\n",
        "\n",
        "summary['f1 score'].append(f1_score(test_y, y_pred_eff, average='micro'))\n",
        "summary['f1 score'].append(f1_score(test_y, y_pred_vgg, average='micro'))"
      ],
      "metadata": {
        "id": "1j-T2lm3XxLp"
      },
      "execution_count": null,
      "outputs": []
    },
    {
      "cell_type": "code",
      "source": [
        "summary_df = pd.DataFrame(summary)"
      ],
      "metadata": {
        "id": "vBJR5TOFaPQZ"
      },
      "execution_count": null,
      "outputs": []
    },
    {
      "cell_type": "code",
      "source": [
        "summary_df.index = ['EfficientNetB0', 'VGG16']"
      ],
      "metadata": {
        "id": "v6hOGn3qcrfZ"
      },
      "execution_count": null,
      "outputs": []
    },
    {
      "cell_type": "code",
      "source": [
        "summary_df"
      ],
      "metadata": {
        "colab": {
          "base_uri": "https://localhost:8080/",
          "height": 112
        },
        "id": "fYkAIGlgctmw",
        "outputId": "93ee1cd7-d8e9-4a1c-d598-3086eb847a02"
      },
      "execution_count": null,
      "outputs": [
        {
          "output_type": "execute_result",
          "data": {
            "text/plain": [
              "                accuracy score  precision    recall  f1 score\n",
              "EfficientNetB0        0.843243   0.876404  0.843243  0.859504\n",
              "VGG16                 0.643243   0.734568  0.643243  0.685879"
            ],
            "text/html": [
              "\n",
              "  <div id=\"df-03fa0199-f1c8-4ac4-8d3d-7b31c4063fda\">\n",
              "    <div class=\"colab-df-container\">\n",
              "      <div>\n",
              "<style scoped>\n",
              "    .dataframe tbody tr th:only-of-type {\n",
              "        vertical-align: middle;\n",
              "    }\n",
              "\n",
              "    .dataframe tbody tr th {\n",
              "        vertical-align: top;\n",
              "    }\n",
              "\n",
              "    .dataframe thead th {\n",
              "        text-align: right;\n",
              "    }\n",
              "</style>\n",
              "<table border=\"1\" class=\"dataframe\">\n",
              "  <thead>\n",
              "    <tr style=\"text-align: right;\">\n",
              "      <th></th>\n",
              "      <th>accuracy score</th>\n",
              "      <th>precision</th>\n",
              "      <th>recall</th>\n",
              "      <th>f1 score</th>\n",
              "    </tr>\n",
              "  </thead>\n",
              "  <tbody>\n",
              "    <tr>\n",
              "      <th>EfficientNetB0</th>\n",
              "      <td>0.843243</td>\n",
              "      <td>0.876404</td>\n",
              "      <td>0.843243</td>\n",
              "      <td>0.859504</td>\n",
              "    </tr>\n",
              "    <tr>\n",
              "      <th>VGG16</th>\n",
              "      <td>0.643243</td>\n",
              "      <td>0.734568</td>\n",
              "      <td>0.643243</td>\n",
              "      <td>0.685879</td>\n",
              "    </tr>\n",
              "  </tbody>\n",
              "</table>\n",
              "</div>\n",
              "      <button class=\"colab-df-convert\" onclick=\"convertToInteractive('df-03fa0199-f1c8-4ac4-8d3d-7b31c4063fda')\"\n",
              "              title=\"Convert this dataframe to an interactive table.\"\n",
              "              style=\"display:none;\">\n",
              "        \n",
              "  <svg xmlns=\"http://www.w3.org/2000/svg\" height=\"24px\"viewBox=\"0 0 24 24\"\n",
              "       width=\"24px\">\n",
              "    <path d=\"M0 0h24v24H0V0z\" fill=\"none\"/>\n",
              "    <path d=\"M18.56 5.44l.94 2.06.94-2.06 2.06-.94-2.06-.94-.94-2.06-.94 2.06-2.06.94zm-11 1L8.5 8.5l.94-2.06 2.06-.94-2.06-.94L8.5 2.5l-.94 2.06-2.06.94zm10 10l.94 2.06.94-2.06 2.06-.94-2.06-.94-.94-2.06-.94 2.06-2.06.94z\"/><path d=\"M17.41 7.96l-1.37-1.37c-.4-.4-.92-.59-1.43-.59-.52 0-1.04.2-1.43.59L10.3 9.45l-7.72 7.72c-.78.78-.78 2.05 0 2.83L4 21.41c.39.39.9.59 1.41.59.51 0 1.02-.2 1.41-.59l7.78-7.78 2.81-2.81c.8-.78.8-2.07 0-2.86zM5.41 20L4 18.59l7.72-7.72 1.47 1.35L5.41 20z\"/>\n",
              "  </svg>\n",
              "      </button>\n",
              "      \n",
              "  <style>\n",
              "    .colab-df-container {\n",
              "      display:flex;\n",
              "      flex-wrap:wrap;\n",
              "      gap: 12px;\n",
              "    }\n",
              "\n",
              "    .colab-df-convert {\n",
              "      background-color: #E8F0FE;\n",
              "      border: none;\n",
              "      border-radius: 50%;\n",
              "      cursor: pointer;\n",
              "      display: none;\n",
              "      fill: #1967D2;\n",
              "      height: 32px;\n",
              "      padding: 0 0 0 0;\n",
              "      width: 32px;\n",
              "    }\n",
              "\n",
              "    .colab-df-convert:hover {\n",
              "      background-color: #E2EBFA;\n",
              "      box-shadow: 0px 1px 2px rgba(60, 64, 67, 0.3), 0px 1px 3px 1px rgba(60, 64, 67, 0.15);\n",
              "      fill: #174EA6;\n",
              "    }\n",
              "\n",
              "    [theme=dark] .colab-df-convert {\n",
              "      background-color: #3B4455;\n",
              "      fill: #D2E3FC;\n",
              "    }\n",
              "\n",
              "    [theme=dark] .colab-df-convert:hover {\n",
              "      background-color: #434B5C;\n",
              "      box-shadow: 0px 1px 3px 1px rgba(0, 0, 0, 0.15);\n",
              "      filter: drop-shadow(0px 1px 2px rgba(0, 0, 0, 0.3));\n",
              "      fill: #FFFFFF;\n",
              "    }\n",
              "  </style>\n",
              "\n",
              "      <script>\n",
              "        const buttonEl =\n",
              "          document.querySelector('#df-03fa0199-f1c8-4ac4-8d3d-7b31c4063fda button.colab-df-convert');\n",
              "        buttonEl.style.display =\n",
              "          google.colab.kernel.accessAllowed ? 'block' : 'none';\n",
              "\n",
              "        async function convertToInteractive(key) {\n",
              "          const element = document.querySelector('#df-03fa0199-f1c8-4ac4-8d3d-7b31c4063fda');\n",
              "          const dataTable =\n",
              "            await google.colab.kernel.invokeFunction('convertToInteractive',\n",
              "                                                     [key], {});\n",
              "          if (!dataTable) return;\n",
              "\n",
              "          const docLinkHtml = 'Like what you see? Visit the ' +\n",
              "            '<a target=\"_blank\" href=https://colab.research.google.com/notebooks/data_table.ipynb>data table notebook</a>'\n",
              "            + ' to learn more about interactive tables.';\n",
              "          element.innerHTML = '';\n",
              "          dataTable['output_type'] = 'display_data';\n",
              "          await google.colab.output.renderOutput(dataTable, element);\n",
              "          const docLink = document.createElement('div');\n",
              "          docLink.innerHTML = docLinkHtml;\n",
              "          element.appendChild(docLink);\n",
              "        }\n",
              "      </script>\n",
              "    </div>\n",
              "  </div>\n",
              "  "
            ]
          },
          "metadata": {},
          "execution_count": 76
        }
      ]
    },
    {
      "cell_type": "markdown",
      "source": [
        "As above, I put accuracy, precision, recall, and f1 score in the dataframe shown above."
      ],
      "metadata": {
        "id": "CCi0oT4Md3XE"
      }
    }
  ]
}